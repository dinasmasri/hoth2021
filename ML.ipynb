{
 "cells": [
  {
   "cell_type": "code",
   "execution_count": 86,
   "metadata": {},
   "outputs": [],
   "source": [
    "import pandas as pd\n",
    "import numpy as np\n",
    "from sklearn.feature_extraction.text import CountVectorizer\n",
    "from sklearn.metrics.pairwise import cosine_similarity"
   ]
  },
  {
   "cell_type": "code",
   "execution_count": 87,
   "metadata": {},
   "outputs": [],
   "source": [
    "df = pd.read_csv('bookdata.csv')"
   ]
  },
  {
   "cell_type": "code",
   "execution_count": 88,
   "metadata": {},
   "outputs": [
    {
     "name": "stdout",
     "output_type": "stream",
     "text": [
      "   index                       description  \\\n",
      "0      0                       white heels   \n",
      "1      1           denim and fleece jacket   \n",
      "2      2  speckled dark gray sporty hoodie   \n",
      "3      3                       white dress   \n",
      "4      4    blue patterened infinity scarf   \n",
      "\n",
      "                                  image   label  \n",
      "0   https://picsum.photos/id/21/200/300   shoes  \n",
      "1  https://picsum.photos/id/319/200/300  jacket  \n",
      "2  https://picsum.photos/id/338/200/300  hoodie  \n",
      "3  https://picsum.photos/id/325/200/300   dress  \n",
      "4  https://picsum.photos/id/342/200/300   scarf  \n"
     ]
    }
   ],
   "source": [
    "print(df.head())\n"
   ]
  },
  {
   "cell_type": "code",
   "execution_count": 89,
   "metadata": {},
   "outputs": [
    {
     "name": "stdout",
     "output_type": "stream",
     "text": [
      "Index(['index', 'description', 'image', 'label'], dtype='object')\n"
     ]
    }
   ],
   "source": [
    "print(df.columns)"
   ]
  },
  {
   "cell_type": "code",
   "execution_count": null,
   "metadata": {},
   "outputs": [],
   "source": []
  },
  {
   "cell_type": "code",
   "execution_count": 90,
   "metadata": {},
   "outputs": [
    {
     "name": "stdout",
     "output_type": "stream",
     "text": [
      "  (0, 59)\t1\n",
      "  (0, 27)\t1\n",
      "  (1, 21)\t1\n",
      "  (1, 1)\t1\n",
      "  (1, 24)\t1\n",
      "  (1, 32)\t1\n",
      "  (2, 52)\t1\n",
      "  (2, 19)\t1\n",
      "  (2, 25)\t1\n",
      "  (2, 53)\t1\n",
      "  (2, 30)\t1\n",
      "  (3, 59)\t1\n",
      "  (3, 23)\t1\n",
      "  (4, 9)\t1\n",
      "  (4, 38)\t1\n",
      "  (4, 31)\t1\n",
      "  (4, 44)\t1\n",
      "  (5, 11)\t1\n",
      "  (5, 33)\t1\n",
      "  (5, 2)\t1\n",
      "  (5, 10)\t1\n",
      "  (6, 25)\t1\n",
      "  (6, 53)\t1\n",
      "  (6, 30)\t1\n",
      "  (7, 6)\t1\n",
      "  :\t:\n",
      "  (27, 35)\t1\n",
      "  (27, 45)\t1\n",
      "  (27, 12)\t1\n",
      "  (27, 22)\t1\n",
      "  (27, 49)\t1\n",
      "  (28, 9)\t1\n",
      "  (28, 35)\t1\n",
      "  (28, 49)\t1\n",
      "  (28, 3)\t1\n",
      "  (28, 8)\t1\n",
      "  (29, 25)\t1\n",
      "  (29, 36)\t1\n",
      "  (29, 7)\t1\n",
      "  (30, 6)\t1\n",
      "  (30, 7)\t1\n",
      "  (31, 19)\t1\n",
      "  (31, 11)\t1\n",
      "  (31, 10)\t1\n",
      "  (32, 25)\t1\n",
      "  (32, 35)\t1\n",
      "  (32, 54)\t1\n",
      "  (32, 49)\t1\n",
      "  (33, 32)\t1\n",
      "  (33, 6)\t1\n",
      "  (33, 58)\t1\n"
     ]
    }
   ],
   "source": [
    "cv = CountVectorizer()\n",
    "count_matrix = cv.fit_transform(df['description'])\n",
    "\n",
    "print(count_matrix)"
   ]
  },
  {
   "cell_type": "code",
   "execution_count": 91,
   "metadata": {},
   "outputs": [],
   "source": [
    "cosine_sim = cosine_similarity(count_matrix)\n"
   ]
  },
  {
   "cell_type": "code",
   "execution_count": 92,
   "metadata": {},
   "outputs": [],
   "source": [
    "def get_index_from_title(title):\n",
    "    return df[df.description == title][\"index\"].values[0]"
   ]
  },
  {
   "cell_type": "code",
   "execution_count": null,
   "metadata": {},
   "outputs": [],
   "source": []
  },
  {
   "cell_type": "code",
   "execution_count": 105,
   "metadata": {},
   "outputs": [],
   "source": [
    "def userLikes(clothes_liked):\n",
    "    df_index = get_index_from_title(clothes_liked)\n",
    "    print(df_index)\n",
    "    similar_clothes = list(enumerate(cosine_sim[df_index]))\n",
    "    \n",
    "    sorted_similar_clothes = sorted(similar_clothes, key=lambda x:x[1], reverse=True)\n",
    "    \n",
    "    print(sorted_similar_clothes)\n",
    "    print(sorted_similar_clothes[0])\n",
    "    \n",
    "    def get_title_from_index(index):\n",
    "        return df.values[index]\n",
    "\n",
    "    \n",
    "    cosines = pd.DataFrame(sorted_similar_clothes, columns=[\"correspondingIndex\", \"score\"])\n",
    "    cosines.to_csv('list.csv', index=False)\n",
    "    \n",
    "    \n",
    "    print (\"Reccomendation:\")\n",
    "    i=0;\n",
    "    for clothes in df.description:\n",
    "        print (get_title_from_index(cosines.correspondingIndex[i])) \n",
    "        i = i + 1\n",
    "        if i > 5:\n",
    "            break\n",
    "            \n"
   ]
  },
  {
   "cell_type": "code",
   "execution_count": null,
   "metadata": {},
   "outputs": [],
   "source": []
  },
  {
   "cell_type": "code",
   "execution_count": 106,
   "metadata": {},
   "outputs": [
    {
     "name": "stdout",
     "output_type": "stream",
     "text": [
      "20\n",
      "[(20, 0.9999999999999998), (0, 0.4999999999999999), (3, 0.4999999999999999), (17, 0.408248290463863), (23, 0.408248290463863), (16, 0.35355339059327373), (25, 0.35355339059327373), (26, 0.3162277660168379), (8, 0.26726124191242434), (9, 0.26726124191242434), (1, 0.0), (2, 0.0), (4, 0.0), (5, 0.0), (6, 0.0), (7, 0.0), (10, 0.0), (11, 0.0), (12, 0.0), (13, 0.0), (14, 0.0), (15, 0.0), (18, 0.0), (19, 0.0), (21, 0.0), (22, 0.0), (24, 0.0), (27, 0.0), (28, 0.0), (29, 0.0), (30, 0.0), (31, 0.0), (32, 0.0), (33, 0.0)]\n",
      "(20, 0.9999999999999998)\n",
      "Reccomendation:\n",
      "[20 'white sneakers' 'https://picsum.photos/id/662/200/300\\n' 'shoes']\n",
      "[0 'white heels' 'https://picsum.photos/id/21/200/300' 'shoes']\n",
      "[3 'white dress' 'https://picsum.photos/id/325/200/300' 'dress']\n",
      "[17 'white beach dress' 'https://picsum.photos/id/656/200/300' 'dress']\n",
      "[23 'white cropped camisole' 'https://picsum.photos/id/777/200/300'\n",
      " 'shirt']\n",
      "[16 'white short sleeve top' 'https://picsum.photos/id/64/200/300' 'shirt']\n"
     ]
    }
   ],
   "source": [
    "userLikes(\"white sneakers\")"
   ]
  },
 
 ],
 "metadata": {
  "kernelspec": {
   "display_name": "Python 3",
   "language": "python",
   "name": "python3"
  },
  "language_info": {
   "codemirror_mode": {
    "name": "ipython",
    "version": 3
   },
   "file_extension": ".py",
   "mimetype": "text/x-python",
   "name": "python",
   "nbconvert_exporter": "python",
   "pygments_lexer": "ipython3",
   "version": "3.7.8"
  }
 },
 "nbformat": 4,
 "nbformat_minor": 4
}
